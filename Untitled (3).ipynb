{
 "cells": [
  {
   "cell_type": "markdown",
   "id": "edf28ea5-6dd6-46c1-a410-9a2ee535e878",
   "metadata": {},
   "source": [
    "Q1\n",
    "\n",
    "Abstraction is a fundamental concept in object-oriented programming (OOP) that focuses on simplifying complex reality by modeling classes and objects that represent the essential features and behaviors of real-world entities. "
   ]
  },
  {
   "cell_type": "code",
   "execution_count": null,
   "id": "6eed529f-14fe-49eb-b372-da1c58feed9f",
   "metadata": {},
   "outputs": [],
   "source": [
    "#Q1 code\n",
    "\n",
    "class Vehicle:\n",
    "    def __init__(self, make, model):\n",
    "        self.make = make\n",
    "        self.model = model\n",
    "\n",
    "    def start(self):\n",
    "        pass\n",
    "\n",
    "    def stop(self):\n",
    "        pass\n",
    "\n",
    "    def accelerate(self):\n",
    "        pass\n",
    "\n",
    "    def brake(self):\n",
    "        pass\n"
   ]
  },
  {
   "cell_type": "markdown",
   "id": "a1ec6e1a-3235-4098-b291-c60f02365a9e",
   "metadata": {},
   "source": [
    "Q2\n",
    "\n",
    "Abstraction\n",
    " Abstraction focuses on presenting only the relevant and essential aspects of an object, while hiding unnecessary details.\n",
    " \n",
    " Encapsulation focuses on bundling data (attributes) and methods (functions) that operate on the data into a single unit, often referred to as a class. It restricts direct access to some of the object's components."
   ]
  },
  {
   "cell_type": "code",
   "execution_count": 1,
   "id": "225c3dcc-4b8f-43e1-b7fc-4c1c1994c713",
   "metadata": {},
   "outputs": [],
   "source": [
    "#Q2 Code\n",
    "# Abstraction\n",
    "class BankAccount:\n",
    "    def __init__(self, account_number, balance):\n",
    "        self.account_number = account_number\n",
    "        self.balance = balance\n",
    "\n",
    "    def deposit(self, amount):\n",
    "        pass\n",
    "\n",
    "    def withdraw(self, amount):\n",
    "        pass\n",
    "\n",
    "    def get_balance(self):\n",
    "        pass\n",
    "\n",
    "# Encapsulation\n",
    "class BankAccountEncapsulated:\n",
    "    def __init__(self, account_number, balance):\n",
    "        self.__account_number = account_number  # Encapsulated attribute\n",
    "        self.__balance = balance  # Encapsulated attribute\n",
    "\n",
    "    def deposit(self, amount):\n",
    "        if amount > 0:\n",
    "            self.__balance += amount\n",
    "\n",
    "    def withdraw(self, amount):\n",
    "        if 0 < amount <= self.__balance:\n",
    "            self.__balance -= amount\n",
    "\n",
    "    def get_balance(self):\n",
    "        return self.__balance\n",
    "\n",
    "\n"
   ]
  },
  {
   "cell_type": "code",
   "execution_count": 2,
   "id": "8d8b8aa6-6dff-43c2-9168-9c9ad1e747f5",
   "metadata": {},
   "outputs": [
    {
     "name": "stdout",
     "output_type": "stream",
     "text": [
      "2500\n"
     ]
    }
   ],
   "source": [
    "account1 = BankAccount(12345, 1000)  \n",
    "account2 = BankAccountEncapsulated(67890, 2000)  \n",
    "\n",
    "account1.balance = 5000  \n",
    "account2.__balance = 5000  \n",
    "\n",
    "account2.deposit(500) \n",
    "print(account2.get_balance())  \n",
    "\n"
   ]
  },
  {
   "cell_type": "markdown",
   "id": "326baad7-88cf-4d59-90ea-1a28d6d0a2da",
   "metadata": {},
   "source": [
    "Q3\n",
    "\n",
    "The abc module in Python stands for \"Abstract Base Classes.\" It provides a mechanism for creating abstract base classes that define a common interface for subclasses to follow. Abstract base classes are used to enforce a certain structure on derived classes, ensuring that they implement specific methods or attributes. These classes cannot be instantiated directly; instead, they are meant to be subclassed."
   ]
  }
 ],
 "metadata": {
  "kernelspec": {
   "display_name": "Python 3 (ipykernel)",
   "language": "python",
   "name": "python3"
  },
  "language_info": {
   "codemirror_mode": {
    "name": "ipython",
    "version": 3
   },
   "file_extension": ".py",
   "mimetype": "text/x-python",
   "name": "python",
   "nbconvert_exporter": "python",
   "pygments_lexer": "ipython3",
   "version": "3.10.8"
  }
 },
 "nbformat": 4,
 "nbformat_minor": 5
}
